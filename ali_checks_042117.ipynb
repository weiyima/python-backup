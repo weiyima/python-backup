{
 "cells": [
  {
   "cell_type": "markdown",
   "metadata": {},
   "source": [
    "#Client Advertiser ALI Identification Tool"
   ]
  },
  {
   "cell_type": "markdown",
   "metadata": {},
   "source": [
    "The aim of this notebook is to run an analysis on a client's existing campaigns, to identify potential advertiser candidates that we can recommend testing of and migration to Augmented Line Items.\n",
    "\n",
    "Steps to run:\n",
    "\n",
    "1. Input the member ID in the below cell\n",
    "\n",
    "2. Select \"Run All\" from the Cell dropdown in the header\n",
    "\n",
    "Any questions or suggestions please ask Anne or Cyril"
   ]
  },
  {
   "cell_type": "code",
   "execution_count": 168,
   "metadata": {
    "collapsed": false
   },
   "outputs": [],
   "source": [
    "member_id = 668\n",
    "\n",
    "scope = 14 # days\n",
    "limit = 5 # Number of items displayed"
   ]
  },
  {
   "cell_type": "code",
   "execution_count": 169,
   "metadata": {
    "collapsed": false
   },
   "outputs": [],
   "source": [
    "from link import lnk\n",
    "import pandas as pd\n",
    "import sys\n",
    "import datetime\n",
    "from dateutil.relativedelta import relativedelta\n",
    "reload(sys)\n",
    "sys.setdefaultencoding('utf8')\n",
    "import os\n",
    "import numpy as np\n",
    "import time\n",
    "from IPython.display import HTML\n",
    "\n",
    "pd.set_option('display.max_colwidth', -1)"
   ]
  },
  {
   "cell_type": "code",
   "execution_count": 170,
   "metadata": {
    "collapsed": false
   },
   "outputs": [
    {
     "data": {
      "text/html": [
       "<script>\n",
       "code_show=true; \n",
       "function code_toggle() {\n",
       " if (code_show){\n",
       " $('div.input').hide();\n",
       " } else {\n",
       " $('div.input').show();\n",
       " }\n",
       " code_show = !code_show\n",
       "} \n",
       "$( document ).ready(code_toggle);\n",
       "</script>\n",
       "<form action=\"javascript:code_toggle()\"><input type=\"submit\" value=\"Click here to toggle on/off the raw code.\"></form>"
      ],
      "text/plain": [
       "<IPython.core.display.HTML object>"
      ]
     },
     "execution_count": 170,
     "metadata": {},
     "output_type": "execute_result"
    }
   ],
   "source": [
    "HTML('''<script>\n",
    "code_show=true; \n",
    "function code_toggle() {\n",
    " if (code_show){\n",
    " $('div.input').hide();\n",
    " } else {\n",
    " $('div.input').show();\n",
    " }\n",
    " code_show = !code_show\n",
    "} \n",
    "$( document ).ready(code_toggle);\n",
    "</script>\n",
    "<form action=\"javascript:code_toggle()\"><input type=\"submit\" value=\"Click here to toggle on/off the raw code.\"></form>''')"
   ]
  },
  {
   "cell_type": "code",
   "execution_count": 171,
   "metadata": {
    "collapsed": false
   },
   "outputs": [],
   "source": [
    "def df_to_list(dataframe_column):\n",
    "    # change a dataframe column to a list wrapped in parentheses\n",
    "    # (to input in SQL, Vertica queries)\n",
    "    result = \"(-2)\"\n",
    "    if len(dataframe_column) > 0:\n",
    "        result = \", \".join(map(str, list(set(dataframe_column))))\n",
    "        result = \"(\" + result + \")\"\n",
    "    return result"
   ]
  },
  {
   "cell_type": "markdown",
   "metadata": {
    "collapsed": false
   },
   "source": [
    "##Quick check of proportion of active, non-deleted insertion orders which are seamless"
   ]
  },
  {
   "cell_type": "code",
   "execution_count": 199,
   "metadata": {
    "collapsed": false
   },
   "outputs": [
    {
     "data": {
      "text/html": [
       "<div>\n",
       "<table border=\"1\" class=\"dataframe\">\n",
       "  <thead>\n",
       "    <tr style=\"text-align: right;\">\n",
       "      <th></th>\n",
       "      <th>io_type</th>\n",
       "      <th>count</th>\n",
       "    </tr>\n",
       "  </thead>\n",
       "  <tbody>\n",
       "    <tr>\n",
       "      <th>0</th>\n",
       "      <td>Legacy</td>\n",
       "      <td>1857</td>\n",
       "    </tr>\n",
       "    <tr>\n",
       "      <th>1</th>\n",
       "      <td>Seamless</td>\n",
       "      <td>2591</td>\n",
       "    </tr>\n",
       "  </tbody>\n",
       "</table>\n",
       "</div>"
      ],
      "text/plain": [
       "    io_type  count\n",
       "0  Legacy    1857 \n",
       "1  Seamless  2591 "
      ]
     },
     "execution_count": 199,
     "metadata": {},
     "output_type": "execute_result"
    },
    {
     "data": {
      "image/png": "[encoded data removed]",
      "text/plain": [
       "<matplotlib.figure.Figure at 0x4ef8590>"
      ]
     },
     "metadata": {},
     "output_type": "display_data"
    }
   ],
   "source": [
    "def seamless_info(member_id):\n",
    "\tSQL = \"\"\"select (case when budget_allocation_required = 1 then \"Seamless\" else \"Legacy\" end) as io_type, \n",
    "        count(id) as count \n",
    "        from bidder.insertion_order\n",
    "        where member_id in ('%s')\n",
    "        and state='active' \n",
    "        and deleted=0 group by 1;;\"\"\" % (str(member_id))\n",
    "\tdf = lnk.dbs.mysql_prod_api.select(SQL).as_dataframe()\n",
    "\treturn df\n",
    "seamless = seamless_info(member_id)\n",
    "import matplotlib.pyplot as plt\n",
    "%matplotlib inline\n",
    "seamless.plot(kind='pie',x='io_type', y='count')\n",
    "seamless"
   ]
  },
  {
   "cell_type": "markdown",
   "metadata": {},
   "source": [
    "Note: Next steps for this section - add a pie chart"
   ]
  },
  {
   "cell_type": "markdown",
   "metadata": {},
   "source": [
    "##1. Campaigns under seamless IOs or no IO"
   ]
  },
  {
   "cell_type": "markdown",
   "metadata": {
    "collapsed": false
   },
   "source": [
    "###1. a) Optimising to CPC goal"
   ]
  },
  {
   "cell_type": "code",
   "execution_count": 173,
   "metadata": {
    "collapsed": false,
    "scrolled": false
   },
   "outputs": [],
   "source": [
    "def get_ios(member_id,budget_allocation):\n",
    "    SQL = \"\"\"select io.id as insertion_order_id\n",
    "        from bidder.insertion_order io\n",
    "        where io.member_id in ('%s')\n",
    "        and io.state = 'active'\n",
    "        and io.budget_allocation_required = %d\n",
    "        and io.deleted=0 \n",
    "        order by 1 desc;\"\"\" % (str(member_id),budget_allocation)\n",
    "    df = lnk.dbs.mysql_prod_api.select(SQL).as_dataframe()\n",
    "    seamless_ios = df_to_list(df['insertion_order_id'])\n",
    "    return seamless_ios\n",
    "\n",
    "def get_opt_to_cpc_campaigns(member_id, member_ios):\n",
    "    SQL = \"\"\"SELECT c.id as campaign_id, c.name as campaign_name, c.advertiser_id, a.name as advertiser_name\n",
    "        FROM bidder.campaign c\n",
    "        JOIN bidder.insertion_order_campaign_group iocg ON c.campaign_group_id = iocg.campaign_group_id\n",
    "        JOIN bidder.advertiser a ON c.advertiser_id=a.id\n",
    "        WHERE c.member_id in ('%s')\n",
    "        AND (iocg.insertion_order_id in %s OR a.use_insertion_orders = 0)\n",
    "        AND c.deleted=0\n",
    "        AND c.state = 'active'\n",
    "        AND c.cpc_goal IS NOT NULL\n",
    "        GROUP BY 1;\"\"\" % (str(member_id), member_seamless_ios)\n",
    "    df_opt_to_cpc_camps = lnk.dbs.mysql_prod_api.select(SQL).as_dataframe()\n",
    "    return df_opt_to_cpc_camps\n",
    "    \n",
    "def get_revenue_from_df_campaigns(campaign_or_campaign_group, df_campaigns):\n",
    "    campaign_list = df_to_list(df_campaigns['%s_id' % campaign_or_campaign_group])\n",
    "    \n",
    "    VSQL = \"\"\"SELECT %s_id,\n",
    "        sum(media_cost_dollars) as media_cost_%s_days\n",
    "        FROM agg_dw_advertiser_publisher_analytics_adjusted \n",
    "        WHERE %s_id IN %s\n",
    "        AND ymdh >= now() - interval '%s days'\n",
    "        GROUP BY 1\n",
    "        ORDER BY 2 DESC;\"\"\" % (campaign_or_campaign_group, scope, campaign_or_campaign_group, campaign_list, scope)\n",
    "    df_revenue = lnk.dbs.vertica.select(VSQL).as_dataframe()\n",
    "    \n",
    "    df = pd.merge(df_revenue, df_campaigns, how='left', on='%s_id' % campaign_or_campaign_group)\n",
    "\n",
    "    if df.empty:\n",
    "        print \"There are no campaigns in this category for this member.\"\n",
    "    return df\n",
    "\n",
    "   \n",
    "member_seamless_ios = get_ios(member_id,1)\n",
    "df_opt_to_cpc_campaigns = get_opt_to_cpc_campaigns(member_id, member_seamless_ios)\n",
    "df_opt_to_cpc_campaigns_revenue = get_revenue_from_df_campaigns('campaign', df_opt_to_cpc_campaigns)\n",
    "advertiser_opt_to_cpc = df_opt_to_cpc_campaigns_revenue.groupby(by=['advertiser_name',\n",
    "                                                  'advertiser_id']).agg({'campaign_id':'count', \n",
    "                                                                         'media_cost_14_days': 'sum'}).sort('media_cost_14_days',\n",
    "                                                                                                            ascending=False)\n"
   ]
  },
  {
   "cell_type": "markdown",
   "metadata": {
    "collapsed": false
   },
   "source": [
    "####Top Advertisers spend on CPC campaigns"
   ]
  },
  {
   "cell_type": "code",
   "execution_count": 174,
   "metadata": {
    "collapsed": false,
    "scrolled": false
   },
   "outputs": [
    {
     "data": {
      "text/html": [
       "<div>\n",
       "<table border=\"1\" class=\"dataframe\">\n",
       "  <thead>\n",
       "    <tr style=\"text-align: right;\">\n",
       "      <th></th>\n",
       "      <th></th>\n",
       "      <th>media_cost_14_days</th>\n",
       "      <th>campaign_id</th>\n",
       "    </tr>\n",
       "    <tr>\n",
       "      <th>advertiser_name</th>\n",
       "      <th>advertiser_id</th>\n",
       "      <th></th>\n",
       "      <th></th>\n",
       "    </tr>\n",
       "  </thead>\n",
       "  <tbody>\n",
       "    <tr>\n",
       "      <th>DIRECTV c/o iCrossing NY</th>\n",
       "      <th>1105469</th>\n",
       "      <td>9563.889978</td>\n",
       "      <td>19</td>\n",
       "    </tr>\n",
       "    <tr>\n",
       "      <th>Bridgestone Golf Inc. c/o GKV</th>\n",
       "      <th>1533008</th>\n",
       "      <td>5412.589899</td>\n",
       "      <td>11</td>\n",
       "    </tr>\n",
       "    <tr>\n",
       "      <th>Hologic c/o Pathfinder</th>\n",
       "      <th>963221</th>\n",
       "      <td>5350.214803</td>\n",
       "      <td>61</td>\n",
       "    </tr>\n",
       "    <tr>\n",
       "      <th>Century Link c/o Mullen Lowe NC</th>\n",
       "      <th>1461985</th>\n",
       "      <td>3187.027877</td>\n",
       "      <td>17</td>\n",
       "    </tr>\n",
       "    <tr>\n",
       "      <th>Land O' Lakes c/o The Martin Agency</th>\n",
       "      <th>1298227</th>\n",
       "      <td>2699.492188</td>\n",
       "      <td>7</td>\n",
       "    </tr>\n",
       "  </tbody>\n",
       "</table>\n",
       "</div>"
      ],
      "text/plain": [
       "                                                   media_cost_14_days  \\\n",
       "advertiser_name                     advertiser_id                       \n",
       "DIRECTV c/o iCrossing NY            1105469        9563.889978          \n",
       "Bridgestone Golf Inc. c/o GKV       1533008        5412.589899          \n",
       "Hologic c/o Pathfinder              963221         5350.214803          \n",
       "Century Link c/o Mullen Lowe NC     1461985        3187.027877          \n",
       "Land O' Lakes c/o The Martin Agency 1298227        2699.492188          \n",
       "\n",
       "                                                   campaign_id  \n",
       "advertiser_name                     advertiser_id               \n",
       "DIRECTV c/o iCrossing NY            1105469        19           \n",
       "Bridgestone Golf Inc. c/o GKV       1533008        11           \n",
       "Hologic c/o Pathfinder              963221         61           \n",
       "Century Link c/o Mullen Lowe NC     1461985        17           \n",
       "Land O' Lakes c/o The Martin Agency 1298227        7            "
      ]
     },
     "execution_count": 174,
     "metadata": {},
     "output_type": "execute_result"
    }
   ],
   "source": [
    "advertiser_opt_to_cpc.head(limit)"
   ]
  },
  {
   "cell_type": "markdown",
   "metadata": {},
   "source": [
    "####Top CPC Campaigns "
   ]
  },
  {
   "cell_type": "code",
   "execution_count": 175,
   "metadata": {
    "collapsed": false,
    "scrolled": false,
    "slideshow": {
     "slide_type": "-"
    }
   },
   "outputs": [
    {
     "data": {
      "text/html": [
       "<div>\n",
       "<table border=\"1\" class=\"dataframe\">\n",
       "  <thead>\n",
       "    <tr style=\"text-align: right;\">\n",
       "      <th></th>\n",
       "      <th>campaign_id</th>\n",
       "      <th>media_cost_14_days</th>\n",
       "      <th>campaign_name</th>\n",
       "      <th>advertiser_id</th>\n",
       "      <th>advertiser_name</th>\n",
       "    </tr>\n",
       "  </thead>\n",
       "  <tbody>\n",
       "    <tr>\n",
       "      <th>0</th>\n",
       "      <td>15756284</td>\n",
       "      <td>3710.127100</td>\n",
       "      <td>Bridgestone Golf - Native - Reach - Broad</td>\n",
       "      <td>1533008</td>\n",
       "      <td>Bridgestone Golf Inc. c/o GKV</td>\n",
       "    </tr>\n",
       "    <tr>\n",
       "      <th>1</th>\n",
       "      <td>16414829</td>\n",
       "      <td>3673.759030</td>\n",
       "      <td>Copy DirecTV - Prospecting - 2017 - CTR Temp</td>\n",
       "      <td>1105469</td>\n",
       "      <td>DIRECTV c/o iCrossing NY</td>\n",
       "    </tr>\n",
       "    <tr>\n",
       "      <th>2</th>\n",
       "      <td>16414831</td>\n",
       "      <td>2178.921723</td>\n",
       "      <td>Copy DirecTV - Prospecting - 2017 - Placement Whitelist</td>\n",
       "      <td>1105469</td>\n",
       "      <td>DIRECTV c/o iCrossing NY</td>\n",
       "    </tr>\n",
       "    <tr>\n",
       "      <th>3</th>\n",
       "      <td>16297593</td>\n",
       "      <td>1455.508522</td>\n",
       "      <td>NCIRD Children's Campaign - High CTR Placements - CPC Optimized</td>\n",
       "      <td>1680675</td>\n",
       "      <td>NCIRD c/o Porter Novelli</td>\n",
       "    </tr>\n",
       "    <tr>\n",
       "      <th>4</th>\n",
       "      <td>16414832</td>\n",
       "      <td>1427.699857</td>\n",
       "      <td>Copy DirecTV - Prospecting - 2017 - Top CTR Pubs</td>\n",
       "      <td>1105469</td>\n",
       "      <td>DIRECTV c/o iCrossing NY</td>\n",
       "    </tr>\n",
       "  </tbody>\n",
       "</table>\n",
       "</div>"
      ],
      "text/plain": [
       "   campaign_id  media_cost_14_days  \\\n",
       "0  15756284     3710.127100          \n",
       "1  16414829     3673.759030          \n",
       "2  16414831     2178.921723          \n",
       "3  16297593     1455.508522          \n",
       "4  16414832     1427.699857          \n",
       "\n",
       "                                                     campaign_name  \\\n",
       "0  Bridgestone Golf - Native - Reach - Broad                         \n",
       "1  Copy DirecTV - Prospecting - 2017 - CTR Temp                      \n",
       "2  Copy DirecTV - Prospecting - 2017 - Placement Whitelist           \n",
       "3  NCIRD Children's Campaign - High CTR Placements - CPC Optimized   \n",
       "4  Copy DirecTV - Prospecting - 2017 - Top CTR Pubs                  \n",
       "\n",
       "   advertiser_id                advertiser_name  \n",
       "0  1533008        Bridgestone Golf Inc. c/o GKV  \n",
       "1  1105469        DIRECTV c/o iCrossing NY       \n",
       "2  1105469        DIRECTV c/o iCrossing NY       \n",
       "3  1680675        NCIRD c/o Porter Novelli       \n",
       "4  1105469        DIRECTV c/o iCrossing NY       "
      ]
     },
     "execution_count": 175,
     "metadata": {},
     "output_type": "execute_result"
    }
   ],
   "source": [
    "df_opt_to_cpc_campaigns_revenue.head(limit)"
   ]
  },
  {
   "cell_type": "markdown",
   "metadata": {},
   "source": [
    "###1. b) With name like viewability"
   ]
  },
  {
   "cell_type": "code",
   "execution_count": 176,
   "metadata": {
    "collapsed": true
   },
   "outputs": [],
   "source": [
    "def get_campaign_with_viewability_name(member_id, member_seamless_ios):\n",
    "    SQL = \"\"\"SELECT c.id as campaign_id, c.name as campaign_name,  c.advertiser_id, a.name as advertiser_name\n",
    "        FROM bidder.campaign c\n",
    "        JOIN bidder.advertiser a ON c.advertiser_id = a.id\n",
    "        JOIN bidder.insertion_order_campaign_group iocg ON c.campaign_group_id = iocg.campaign_group_id\n",
    "        WHERE c.member_id in ('%s')\n",
    "        AND c.deleted=0\n",
    "        AND (iocg.insertion_order_id in %s OR a.use_insertion_orders = 0)\n",
    "        AND c.state = 'active'\n",
    "        AND (LOWER(c.name) LIKE '%%iewability%%' OR LOWER(c.name) LIKE '%%isibili%%' OR LOWER(c.name) LIKE '%%vcpm%%' OR LOWER(c.name) LIKE '%%cpvm%%')\n",
    "        GROUP BY 1,2,3;\"\"\" % (str(member_id), member_seamless_ios)\n",
    "    df_campaigns_with_viewability_name = lnk.dbs.mysql_prod_api.select(SQL).as_dataframe()\n",
    "    return df_campaigns_with_viewability_name\n",
    "\n",
    "\n",
    "df_campaigns_with_viewability_name = get_campaign_with_viewability_name(member_id, member_seamless_ios)\n",
    "df_campaigns_with_viewability_name_revenue = get_revenue_from_df_campaigns('campaign', df_campaigns_with_viewability_name)\n",
    "advertiser_viewability = df_campaigns_with_viewability_name_revenue.groupby(by=['advertiser_name',\n",
    "                                                  'advertiser_id']).agg({'campaign_id':'count', \n",
    "                                                                         'media_cost_14_days': 'sum'}).sort('media_cost_14_days',\n",
    "                                                                                                            ascending=False)\n",
    "\n"
   ]
  },
  {
   "cell_type": "markdown",
   "metadata": {},
   "source": [
    "####Top Advertiser spend on viewability campaigns"
   ]
  },
  {
   "cell_type": "code",
   "execution_count": 177,
   "metadata": {
    "collapsed": false
   },
   "outputs": [
    {
     "data": {
      "text/html": [
       "<div>\n",
       "<table border=\"1\" class=\"dataframe\">\n",
       "  <thead>\n",
       "    <tr style=\"text-align: right;\">\n",
       "      <th></th>\n",
       "      <th></th>\n",
       "      <th>media_cost_14_days</th>\n",
       "      <th>campaign_id</th>\n",
       "    </tr>\n",
       "    <tr>\n",
       "      <th>advertiser_name</th>\n",
       "      <th>advertiser_id</th>\n",
       "      <th></th>\n",
       "      <th></th>\n",
       "    </tr>\n",
       "  </thead>\n",
       "  <tbody>\n",
       "    <tr>\n",
       "      <th>DIRECTV c/o iCrossing NY</th>\n",
       "      <th>1105469</th>\n",
       "      <td>16399.449119</td>\n",
       "      <td>8</td>\n",
       "    </tr>\n",
       "    <tr>\n",
       "      <th>Avis &amp; Budget Group North America c/o House of Kaizen NY</th>\n",
       "      <th>287750</th>\n",
       "      <td>12930.684025</td>\n",
       "      <td>9</td>\n",
       "    </tr>\n",
       "    <tr>\n",
       "      <th>Barclaycard c/o Mullen Lowe</th>\n",
       "      <th>775664</th>\n",
       "      <td>11277.582755</td>\n",
       "      <td>4</td>\n",
       "    </tr>\n",
       "    <tr>\n",
       "      <th>Just Eat c/o M/Six</th>\n",
       "      <th>995298</th>\n",
       "      <td>7576.713499</td>\n",
       "      <td>35</td>\n",
       "    </tr>\n",
       "    <tr>\n",
       "      <th>Mattress Firm c/o Merkle Inc</th>\n",
       "      <th>1355016</th>\n",
       "      <td>3771.208653</td>\n",
       "      <td>11</td>\n",
       "    </tr>\n",
       "  </tbody>\n",
       "</table>\n",
       "</div>"
      ],
      "text/plain": [
       "                                                                        media_cost_14_days  \\\n",
       "advertiser_name                                          advertiser_id                       \n",
       "DIRECTV c/o iCrossing NY                                 1105469        16399.449119         \n",
       "Avis & Budget Group North America c/o House of Kaizen NY 287750         12930.684025         \n",
       "Barclaycard c/o Mullen Lowe                              775664         11277.582755         \n",
       "Just Eat c/o M/Six                                       995298         7576.713499          \n",
       "Mattress Firm c/o Merkle Inc                             1355016        3771.208653          \n",
       "\n",
       "                                                                        campaign_id  \n",
       "advertiser_name                                          advertiser_id               \n",
       "DIRECTV c/o iCrossing NY                                 1105469        8            \n",
       "Avis & Budget Group North America c/o House of Kaizen NY 287750         9            \n",
       "Barclaycard c/o Mullen Lowe                              775664         4            \n",
       "Just Eat c/o M/Six                                       995298         35           \n",
       "Mattress Firm c/o Merkle Inc                             1355016        11           "
      ]
     },
     "execution_count": 177,
     "metadata": {},
     "output_type": "execute_result"
    }
   ],
   "source": [
    "advertiser_viewability.head(limit)"
   ]
  },
  {
   "cell_type": "markdown",
   "metadata": {},
   "source": [
    "#### Top viewability campaigns"
   ]
  },
  {
   "cell_type": "code",
   "execution_count": 178,
   "metadata": {
    "collapsed": false,
    "scrolled": false
   },
   "outputs": [
    {
     "data": {
      "text/html": [
       "<div>\n",
       "<table border=\"1\" class=\"dataframe\">\n",
       "  <thead>\n",
       "    <tr style=\"text-align: right;\">\n",
       "      <th></th>\n",
       "      <th>campaign_id</th>\n",
       "      <th>media_cost_14_days</th>\n",
       "      <th>campaign_name</th>\n",
       "      <th>advertiser_id</th>\n",
       "      <th>advertiser_name</th>\n",
       "    </tr>\n",
       "  </thead>\n",
       "  <tbody>\n",
       "    <tr>\n",
       "      <th>0</th>\n",
       "      <td>16284572</td>\n",
       "      <td>6832.177602</td>\n",
       "      <td>DirecTV - Prospecting - 2017 - Non-Google High Viewability Placements</td>\n",
       "      <td>1105469</td>\n",
       "      <td>DIRECTV c/o iCrossing NY</td>\n",
       "    </tr>\n",
       "    <tr>\n",
       "      <th>1</th>\n",
       "      <td>15362778</td>\n",
       "      <td>5992.282255</td>\n",
       "      <td>Barclaycard - JetBlue - Prospecting - 2017 - RTB - 1.5 - Viewability - Free - outlook.com</td>\n",
       "      <td>775664</td>\n",
       "      <td>Barclaycard c/o Mullen Lowe</td>\n",
       "    </tr>\n",
       "    <tr>\n",
       "      <th>2</th>\n",
       "      <td>15769750</td>\n",
       "      <td>4196.511664</td>\n",
       "      <td>DirecTV - Prospecting - 2017 - KWs - Non-NFL Sports + Viewability - Context+Audience (7729809/10)</td>\n",
       "      <td>1105469</td>\n",
       "      <td>DIRECTV c/o iCrossing NY</td>\n",
       "    </tr>\n",
       "    <tr>\n",
       "      <th>3</th>\n",
       "      <td>15965673</td>\n",
       "      <td>3835.022044</td>\n",
       "      <td>DirecTV - Prospecting - 2017 - KWs - Non-NFL Sports + Viewability - Context+Audience (7729809/10)</td>\n",
       "      <td>1105469</td>\n",
       "      <td>DIRECTV c/o iCrossing NY</td>\n",
       "    </tr>\n",
       "    <tr>\n",
       "      <th>4</th>\n",
       "      <td>15403166</td>\n",
       "      <td>3416.978694</td>\n",
       "      <td>US - Avis - Prospecting -1 - Reach - 1.2 - Viewability Tree</td>\n",
       "      <td>287750</td>\n",
       "      <td>Avis &amp; Budget Group North America c/o House of Kaizen NY</td>\n",
       "    </tr>\n",
       "  </tbody>\n",
       "</table>\n",
       "</div>"
      ],
      "text/plain": [
       "   campaign_id  media_cost_14_days  \\\n",
       "0  16284572     6832.177602          \n",
       "1  15362778     5992.282255          \n",
       "2  15769750     4196.511664          \n",
       "3  15965673     3835.022044          \n",
       "4  15403166     3416.978694          \n",
       "\n",
       "                                                                                       campaign_name  \\\n",
       "0  DirecTV - Prospecting - 2017 - Non-Google High Viewability Placements                               \n",
       "1  Barclaycard - JetBlue - Prospecting - 2017 - RTB - 1.5 - Viewability - Free - outlook.com           \n",
       "2  DirecTV - Prospecting - 2017 - KWs - Non-NFL Sports + Viewability - Context+Audience (7729809/10)   \n",
       "3  DirecTV - Prospecting - 2017 - KWs - Non-NFL Sports + Viewability - Context+Audience (7729809/10)   \n",
       "4  US - Avis - Prospecting -1 - Reach - 1.2 - Viewability Tree                                         \n",
       "\n",
       "   advertiser_id                                           advertiser_name  \n",
       "0  1105469        DIRECTV c/o iCrossing NY                                  \n",
       "1  775664         Barclaycard c/o Mullen Lowe                               \n",
       "2  1105469        DIRECTV c/o iCrossing NY                                  \n",
       "3  1105469        DIRECTV c/o iCrossing NY                                  \n",
       "4  287750         Avis & Budget Group North America c/o House of Kaizen NY  "
      ]
     },
     "execution_count": 178,
     "metadata": {},
     "output_type": "execute_result"
    }
   ],
   "source": [
    "df_campaigns_with_viewability_name_revenue.head(limit)"
   ]
  },
  {
   "cell_type": "code",
   "execution_count": 179,
   "metadata": {
    "collapsed": true
   },
   "outputs": [],
   "source": [
    "###1. c) Bidding EAP, ECP, CPC or CPA"
   ]
  },
  {
   "cell_type": "code",
   "execution_count": 180,
   "metadata": {
    "collapsed": true
   },
   "outputs": [],
   "source": [
    "def get_ecp_eap_campaigns(member_id, member_seamless_ios):\n",
    "    SQL = \"\"\"SELECT c.id as campaign_id, c.name as campaign_name,  c.advertiser_id, a.name as advertiser_name, cpm_bid_type\n",
    "        FROM bidder.campaign c\n",
    "        JOIN bidder.advertiser a ON c.advertiser_id = a.id\n",
    "        JOIN bidder.insertion_order_campaign_group iocg ON c.campaign_group_id = iocg.campaign_group_id\n",
    "        WHERE c.member_id in ('%s')\n",
    "        AND c.deleted=0\n",
    "        AND (iocg.insertion_order_id in %s OR a.use_insertion_orders = 0)\n",
    "        AND cpm_bid_type IN ('average', 'clearing')\n",
    "        AND c.state = 'active'\n",
    "        GROUP BY 1,2,3;\"\"\" % (str(member_id), member_seamless_ios)\n",
    "    df_ecp_eap_campaigns = lnk.dbs.mysql_prod_api.select(SQL).as_dataframe()\n",
    "    return df_ecp_eap_campaigns\n",
    "\n",
    "df_ecp_eap_campaigns = get_ecp_eap_campaigns(member_id, member_seamless_ios)\n",
    "df_ecp_eap_campaigns\n",
    "df_ecp_eap_campaigns_revenue = get_revenue_from_df_campaigns('campaign', df_ecp_eap_campaigns)\n",
    "advertiser_ecp_eap = df_ecp_eap_campaigns_revenue.groupby(by=['advertiser_name',\n",
    "                                                  'advertiser_id']).agg({'campaign_id':'count', \n",
    "                                                                         'media_cost_14_days': 'sum'}).sort('media_cost_14_days',\n",
    "                                                                                                            ascending=False)"
   ]
  },
  {
   "cell_type": "markdown",
   "metadata": {},
   "source": [
    "### 1. c) EAC and ECP campaigns"
   ]
  },
  {
   "cell_type": "markdown",
   "metadata": {},
   "source": [
    "####Top Advertiser spend on EAP and ECP campaigns"
   ]
  },
  {
   "cell_type": "code",
   "execution_count": 181,
   "metadata": {
    "collapsed": false
   },
   "outputs": [
    {
     "data": {
      "text/html": [
       "<div>\n",
       "<table border=\"1\" class=\"dataframe\">\n",
       "  <thead>\n",
       "    <tr style=\"text-align: right;\">\n",
       "      <th></th>\n",
       "      <th></th>\n",
       "      <th>media_cost_14_days</th>\n",
       "      <th>campaign_id</th>\n",
       "    </tr>\n",
       "    <tr>\n",
       "      <th>advertiser_name</th>\n",
       "      <th>advertiser_id</th>\n",
       "      <th></th>\n",
       "      <th></th>\n",
       "    </tr>\n",
       "  </thead>\n",
       "  <tbody>\n",
       "    <tr>\n",
       "      <th>Paperworld c/o In Front Media - Trade Indy</th>\n",
       "      <th>499300</th>\n",
       "      <td>167.761564</td>\n",
       "      <td>1</td>\n",
       "    </tr>\n",
       "    <tr>\n",
       "      <th>eBay.de c/o Mediacom DE</th>\n",
       "      <th>494863</th>\n",
       "      <td>109.669242</td>\n",
       "      <td>2</td>\n",
       "    </tr>\n",
       "    <tr>\n",
       "      <th>The Chia Co c/o InFront Media - EMS - Trade Indy</th>\n",
       "      <th>1212641</th>\n",
       "      <td>2.116392</td>\n",
       "      <td>1</td>\n",
       "    </tr>\n",
       "    <tr>\n",
       "      <th>Skoda c/o FCB New Zealand</th>\n",
       "      <th>1426328</th>\n",
       "      <td>0.000000</td>\n",
       "      <td>1</td>\n",
       "    </tr>\n",
       "  </tbody>\n",
       "</table>\n",
       "</div>"
      ],
      "text/plain": [
       "                                                                media_cost_14_days  \\\n",
       "advertiser_name                                  advertiser_id                       \n",
       "Paperworld c/o In Front Media - Trade Indy       499300         167.761564           \n",
       "eBay.de c/o Mediacom DE                          494863         109.669242           \n",
       "The Chia Co c/o InFront Media - EMS - Trade Indy 1212641        2.116392             \n",
       "Skoda c/o FCB New Zealand                        1426328        0.000000             \n",
       "\n",
       "                                                                campaign_id  \n",
       "advertiser_name                                  advertiser_id               \n",
       "Paperworld c/o In Front Media - Trade Indy       499300         1            \n",
       "eBay.de c/o Mediacom DE                          494863         2            \n",
       "The Chia Co c/o InFront Media - EMS - Trade Indy 1212641        1            \n",
       "Skoda c/o FCB New Zealand                        1426328        1            "
      ]
     },
     "execution_count": 181,
     "metadata": {},
     "output_type": "execute_result"
    }
   ],
   "source": [
    "advertiser_ecp_eap.head(limit)"
   ]
  },
  {
   "cell_type": "markdown",
   "metadata": {},
   "source": [
    "####Top EAP and ECP campaigns"
   ]
  },
  {
   "cell_type": "code",
   "execution_count": 182,
   "metadata": {
    "collapsed": false
   },
   "outputs": [
    {
     "data": {
      "text/html": [
       "<div>\n",
       "<table border=\"1\" class=\"dataframe\">\n",
       "  <thead>\n",
       "    <tr style=\"text-align: right;\">\n",
       "      <th></th>\n",
       "      <th>campaign_id</th>\n",
       "      <th>media_cost_14_days</th>\n",
       "      <th>campaign_name</th>\n",
       "      <th>advertiser_id</th>\n",
       "      <th>advertiser_name</th>\n",
       "      <th>cpm_bid_type</th>\n",
       "    </tr>\n",
       "  </thead>\n",
       "  <tbody>\n",
       "    <tr>\n",
       "      <th>0</th>\n",
       "      <td>14043590</td>\n",
       "      <td>167.761564</td>\n",
       "      <td>Paperworld - Prospecting - Context - PD - Overlap Domains - EAP</td>\n",
       "      <td>499300</td>\n",
       "      <td>Paperworld c/o In Front Media - Trade Indy</td>\n",
       "      <td>average</td>\n",
       "    </tr>\n",
       "    <tr>\n",
       "      <th>1</th>\n",
       "      <td>16206755</td>\n",
       "      <td>56.406080</td>\n",
       "      <td>ebay UK - BAU - Evergreen - desktop - Historical Performing Domains - EAP</td>\n",
       "      <td>494863</td>\n",
       "      <td>eBay.de c/o Mediacom DE</td>\n",
       "      <td>average</td>\n",
       "    </tr>\n",
       "    <tr>\n",
       "      <th>2</th>\n",
       "      <td>16133533</td>\n",
       "      <td>53.263162</td>\n",
       "      <td>ebay DE - Set 1 - BYOA - Interested Users - Domain List - Manual CPM</td>\n",
       "      <td>494863</td>\n",
       "      <td>eBay.de c/o Mediacom DE</td>\n",
       "      <td>average</td>\n",
       "    </tr>\n",
       "    <tr>\n",
       "      <th>3</th>\n",
       "      <td>14573050</td>\n",
       "      <td>2.116392</td>\n",
       "      <td>The Chia Co - Prospecting - Context - Client Domains - EAP</td>\n",
       "      <td>1212641</td>\n",
       "      <td>The Chia Co c/o InFront Media - EMS - Trade Indy</td>\n",
       "      <td>average</td>\n",
       "    </tr>\n",
       "    <tr>\n",
       "      <th>4</th>\n",
       "      <td>15820381</td>\n",
       "      <td>0.000000</td>\n",
       "      <td>Skoda - Prospecting - Context - Overlap Domains Low Vol - ECP</td>\n",
       "      <td>1426328</td>\n",
       "      <td>Skoda c/o FCB New Zealand</td>\n",
       "      <td>clearing</td>\n",
       "    </tr>\n",
       "  </tbody>\n",
       "</table>\n",
       "</div>"
      ],
      "text/plain": [
       "   campaign_id  media_cost_14_days  \\\n",
       "0  14043590     167.761564           \n",
       "1  16206755     56.406080            \n",
       "2  16133533     53.263162            \n",
       "3  14573050     2.116392             \n",
       "4  15820381     0.000000             \n",
       "\n",
       "                                                               campaign_name  \\\n",
       "0  Paperworld - Prospecting - Context - PD - Overlap Domains - EAP             \n",
       "1  ebay UK - BAU - Evergreen - desktop - Historical Performing Domains - EAP   \n",
       "2  ebay DE - Set 1 - BYOA - Interested Users - Domain List - Manual CPM        \n",
       "3  The Chia Co - Prospecting - Context - Client Domains - EAP                  \n",
       "4  Skoda - Prospecting - Context - Overlap Domains Low Vol - ECP               \n",
       "\n",
       "   advertiser_id                                   advertiser_name  \\\n",
       "0  499300         Paperworld c/o In Front Media - Trade Indy         \n",
       "1  494863         eBay.de c/o Mediacom DE                            \n",
       "2  494863         eBay.de c/o Mediacom DE                            \n",
       "3  1212641        The Chia Co c/o InFront Media - EMS - Trade Indy   \n",
       "4  1426328        Skoda c/o FCB New Zealand                          \n",
       "\n",
       "  cpm_bid_type  \n",
       "0  average      \n",
       "1  average      \n",
       "2  average      \n",
       "3  average      \n",
       "4  clearing     "
      ]
     },
     "execution_count": 182,
     "metadata": {},
     "output_type": "execute_result"
    }
   ],
   "source": [
    "df_ecp_eap_campaigns_revenue.head(limit)"
   ]
  },
  {
   "cell_type": "markdown",
   "metadata": {},
   "source": [
    "###1. d) Buying on a CPC or CPA"
   ]
  },
  {
   "cell_type": "code",
   "execution_count": 183,
   "metadata": {
    "collapsed": true
   },
   "outputs": [],
   "source": [
    "def get_cpc_cpa_campaigns(member_id, member_seamless_ios):\n",
    "    SQL = \"\"\"SELECT c.id as campaign_id, c.name as campaign_name,  c.advertiser_id, a.name as advertiser_name, cpm_bid_type\n",
    "        FROM bidder.campaign c\n",
    "        JOIN bidder.advertiser a ON c.advertiser_id = a.id\n",
    "        JOIN bidder.insertion_order_campaign_group iocg ON c.campaign_group_id = iocg.campaign_group_id\n",
    "        WHERE c.member_id in ('%s')\n",
    "        AND c.deleted=0\n",
    "        AND (iocg.insertion_order_id in %s OR a.use_insertion_orders = 0)\n",
    "        AND cpm_bid_type IN ('none')\n",
    "        AND c.state = 'active'\n",
    "        GROUP BY 1,2,3;\"\"\" % (str(member_id), member_seamless_ios)\n",
    "    df_ecp_eap_campaigns = lnk.dbs.mysql_prod_api.select(SQL).as_dataframe()\n",
    "    return df_ecp_eap_campaigns\n",
    "\n",
    "df_cpc_cpa_campaigns = get_cpc_cpa_campaigns(member_id, member_seamless_ios)\n",
    "df_cpc_cpa_campaigns\n",
    "df_cpc_cpa_campaigns_revenue = get_revenue_from_df_campaigns('campaign', df_cpc_cpa_campaigns)\n",
    "advertiser_cpc_cpa = df_cpc_cpa_campaigns_revenue.groupby(by=['advertiser_name',\n",
    "                                                  'advertiser_id']).agg({'campaign_id':'count', \n",
    "                                                                         'media_cost_14_days': 'sum'}).sort('media_cost_14_days',\n",
    "                                                                                                            ascending=False)"
   ]
  },
  {
   "cell_type": "markdown",
   "metadata": {},
   "source": [
    "####Top Advertiser spend on campaigns buying on a CPC or CPA"
   ]
  },
  {
   "cell_type": "code",
   "execution_count": 184,
   "metadata": {
    "collapsed": false
   },
   "outputs": [
    {
     "data": {
      "text/html": [
       "<div>\n",
       "<table border=\"1\" class=\"dataframe\">\n",
       "  <thead>\n",
       "    <tr style=\"text-align: right;\">\n",
       "      <th></th>\n",
       "      <th></th>\n",
       "      <th>media_cost_14_days</th>\n",
       "      <th>campaign_id</th>\n",
       "    </tr>\n",
       "    <tr>\n",
       "      <th>advertiser_name</th>\n",
       "      <th>advertiser_id</th>\n",
       "      <th></th>\n",
       "      <th></th>\n",
       "    </tr>\n",
       "  </thead>\n",
       "  <tbody>\n",
       "    <tr>\n",
       "      <th>DIRECTV c/o iCrossing NY</th>\n",
       "      <th>1105469</th>\n",
       "      <td>95.25</td>\n",
       "      <td>6</td>\n",
       "    </tr>\n",
       "  </tbody>\n",
       "</table>\n",
       "</div>"
      ],
      "text/plain": [
       "                                        media_cost_14_days  campaign_id\n",
       "advertiser_name          advertiser_id                                 \n",
       "DIRECTV c/o iCrossing NY 1105469        95.25               6          "
      ]
     },
     "execution_count": 184,
     "metadata": {},
     "output_type": "execute_result"
    }
   ],
   "source": [
    "advertiser_cpc_cpa.head(limit)"
   ]
  },
  {
   "cell_type": "markdown",
   "metadata": {},
   "source": [
    "####Top Campaigns buying on a CPC or CPA"
   ]
  },
  {
   "cell_type": "code",
   "execution_count": 185,
   "metadata": {
    "collapsed": false
   },
   "outputs": [
    {
     "data": {
      "text/html": [
       "<div>\n",
       "<table border=\"1\" class=\"dataframe\">\n",
       "  <thead>\n",
       "    <tr style=\"text-align: right;\">\n",
       "      <th></th>\n",
       "      <th>campaign_id</th>\n",
       "      <th>media_cost_14_days</th>\n",
       "      <th>campaign_name</th>\n",
       "      <th>advertiser_id</th>\n",
       "      <th>advertiser_name</th>\n",
       "      <th>cpm_bid_type</th>\n",
       "    </tr>\n",
       "  </thead>\n",
       "  <tbody>\n",
       "    <tr>\n",
       "      <th>0</th>\n",
       "      <td>16414833</td>\n",
       "      <td>75.00</td>\n",
       "      <td>Copy DirecTV - Prospecting - 2017 - CPC</td>\n",
       "      <td>1105469</td>\n",
       "      <td>DIRECTV c/o iCrossing NY</td>\n",
       "      <td>none</td>\n",
       "    </tr>\n",
       "    <tr>\n",
       "      <th>1</th>\n",
       "      <td>16539026</td>\n",
       "      <td>11.25</td>\n",
       "      <td>Copy Copy DirecTV - Prospecting - 2017 - CPC</td>\n",
       "      <td>1105469</td>\n",
       "      <td>DIRECTV c/o iCrossing NY</td>\n",
       "      <td>none</td>\n",
       "    </tr>\n",
       "    <tr>\n",
       "      <th>2</th>\n",
       "      <td>16539132</td>\n",
       "      <td>8.25</td>\n",
       "      <td>Copy Copy DirecTV - Prospecting - 2017 - CPC</td>\n",
       "      <td>1105469</td>\n",
       "      <td>DIRECTV c/o iCrossing NY</td>\n",
       "      <td>none</td>\n",
       "    </tr>\n",
       "    <tr>\n",
       "      <th>3</th>\n",
       "      <td>16539142</td>\n",
       "      <td>0.75</td>\n",
       "      <td>Copy 75k+ DirecTV - Prospecting - 2017 - CPC</td>\n",
       "      <td>1105469</td>\n",
       "      <td>DIRECTV c/o iCrossing NY</td>\n",
       "      <td>none</td>\n",
       "    </tr>\n",
       "    <tr>\n",
       "      <th>4</th>\n",
       "      <td>16538833</td>\n",
       "      <td>0.00</td>\n",
       "      <td>75k+ DirecTV - Prospecting - 2017 - CPC</td>\n",
       "      <td>1105469</td>\n",
       "      <td>DIRECTV c/o iCrossing NY</td>\n",
       "      <td>none</td>\n",
       "    </tr>\n",
       "  </tbody>\n",
       "</table>\n",
       "</div>"
      ],
      "text/plain": [
       "   campaign_id  media_cost_14_days  \\\n",
       "0  16414833     75.00                \n",
       "1  16539026     11.25                \n",
       "2  16539132     8.25                 \n",
       "3  16539142     0.75                 \n",
       "4  16538833     0.00                 \n",
       "\n",
       "                                  campaign_name  advertiser_id  \\\n",
       "0  Copy DirecTV - Prospecting - 2017 - CPC       1105469         \n",
       "1  Copy Copy DirecTV - Prospecting - 2017 - CPC  1105469         \n",
       "2  Copy Copy DirecTV - Prospecting - 2017 - CPC  1105469         \n",
       "3  Copy 75k+ DirecTV - Prospecting - 2017 - CPC  1105469         \n",
       "4  75k+ DirecTV - Prospecting - 2017 - CPC       1105469         \n",
       "\n",
       "            advertiser_name cpm_bid_type  \n",
       "0  DIRECTV c/o iCrossing NY  none         \n",
       "1  DIRECTV c/o iCrossing NY  none         \n",
       "2  DIRECTV c/o iCrossing NY  none         \n",
       "3  DIRECTV c/o iCrossing NY  none         \n",
       "4  DIRECTV c/o iCrossing NY  none         "
      ]
     },
     "execution_count": 185,
     "metadata": {},
     "output_type": "execute_result"
    }
   ],
   "source": [
    "df_cpc_cpa_campaigns_revenue.head(limit)"
   ]
  },
  {
   "cell_type": "markdown",
   "metadata": {},
   "source": [
    "##2. Campaigns under legacy IO"
   ]
  },
  {
   "cell_type": "markdown",
   "metadata": {},
   "source": [
    "###2. a) Optimising to CPC goal"
   ]
  },
  {
   "cell_type": "code",
   "execution_count": 186,
   "metadata": {
    "collapsed": false
   },
   "outputs": [
    {
     "data": {
      "text/html": [
       "<div>\n",
       "<table border=\"1\" class=\"dataframe\">\n",
       "  <thead>\n",
       "    <tr style=\"text-align: right;\">\n",
       "      <th></th>\n",
       "      <th></th>\n",
       "      <th>media_cost_14_days</th>\n",
       "      <th>campaign_id</th>\n",
       "    </tr>\n",
       "    <tr>\n",
       "      <th>advertiser_name</th>\n",
       "      <th>advertiser_id</th>\n",
       "      <th></th>\n",
       "      <th></th>\n",
       "    </tr>\n",
       "  </thead>\n",
       "  <tbody>\n",
       "    <tr>\n",
       "      <th>DIRECTV c/o iCrossing NY</th>\n",
       "      <th>1105469</th>\n",
       "      <td>9563.889978</td>\n",
       "      <td>19</td>\n",
       "    </tr>\n",
       "    <tr>\n",
       "      <th>Bridgestone Golf Inc. c/o GKV</th>\n",
       "      <th>1533008</th>\n",
       "      <td>5412.589899</td>\n",
       "      <td>11</td>\n",
       "    </tr>\n",
       "    <tr>\n",
       "      <th>Hologic c/o Pathfinder</th>\n",
       "      <th>963221</th>\n",
       "      <td>5350.214803</td>\n",
       "      <td>61</td>\n",
       "    </tr>\n",
       "    <tr>\n",
       "      <th>Century Link c/o Mullen Lowe NC</th>\n",
       "      <th>1461985</th>\n",
       "      <td>3187.027877</td>\n",
       "      <td>17</td>\n",
       "    </tr>\n",
       "    <tr>\n",
       "      <th>Land O' Lakes c/o The Martin Agency</th>\n",
       "      <th>1298227</th>\n",
       "      <td>2699.492188</td>\n",
       "      <td>7</td>\n",
       "    </tr>\n",
       "  </tbody>\n",
       "</table>\n",
       "</div>"
      ],
      "text/plain": [
       "                                                   media_cost_14_days  \\\n",
       "advertiser_name                     advertiser_id                       \n",
       "DIRECTV c/o iCrossing NY            1105469        9563.889978          \n",
       "Bridgestone Golf Inc. c/o GKV       1533008        5412.589899          \n",
       "Hologic c/o Pathfinder              963221         5350.214803          \n",
       "Century Link c/o Mullen Lowe NC     1461985        3187.027877          \n",
       "Land O' Lakes c/o The Martin Agency 1298227        2699.492188          \n",
       "\n",
       "                                                   campaign_id  \n",
       "advertiser_name                     advertiser_id               \n",
       "DIRECTV c/o iCrossing NY            1105469        19           \n",
       "Bridgestone Golf Inc. c/o GKV       1533008        11           \n",
       "Hologic c/o Pathfinder              963221         61           \n",
       "Century Link c/o Mullen Lowe NC     1461985        17           \n",
       "Land O' Lakes c/o The Martin Agency 1298227        7            "
      ]
     },
     "execution_count": 186,
     "metadata": {},
     "output_type": "execute_result"
    }
   ],
   "source": [
    "member_legacy_ios = get_ios(member_id,0)\n",
    "df_opt_to_cpc_campaigns = get_opt_to_cpc_campaigns(member_id, member_legacy_ios)\n",
    "df_opt_to_cpc_campaigns_revenue = get_revenue_from_df_campaigns('campaign', df_opt_to_cpc_campaigns)\n",
    "advertiser_opt_to_cpc_legacy = df_opt_to_cpc_campaigns_revenue.groupby(by=['advertiser_name',\n",
    "                                                  'advertiser_id']).agg({'campaign_id':'count', \n",
    "                                                                         'media_cost_14_days': 'sum'}).sort('media_cost_14_days',\n",
    "                                                                                                            ascending=False)\n",
    "advertiser_opt_to_cpc_legacy.head(limit)"
   ]
  },
  {
   "cell_type": "markdown",
   "metadata": {},
   "source": [
    "###2. b) With name like viewability"
   ]
  },
  {
   "cell_type": "code",
   "execution_count": 187,
   "metadata": {
    "collapsed": false
   },
   "outputs": [],
   "source": [
    "df_leg_campaigns_with_viewability_name = get_campaign_with_viewability_name(member_id, member_legacy_ios)\n",
    "df_leg_campaigns_with_viewability_name_revenue = get_revenue_from_df_campaigns('campaign', df_leg_campaigns_with_viewability_name)\n",
    "advertiser_viewability_leg = df_leg_campaigns_with_viewability_name_revenue.groupby(by=['advertiser_name',\n",
    "                                                  'advertiser_id']).agg({'campaign_id':'count', \n",
    "                                                                         'media_cost_14_days': 'sum'}).sort('media_cost_14_days',\n",
    "                                                                                                            ascending=False)"
   ]
  },
  {
   "cell_type": "code",
   "execution_count": 188,
   "metadata": {
    "collapsed": false
   },
   "outputs": [
    {
     "data": {
      "text/html": [
       "<div>\n",
       "<table border=\"1\" class=\"dataframe\">\n",
       "  <thead>\n",
       "    <tr style=\"text-align: right;\">\n",
       "      <th></th>\n",
       "      <th>campaign_id</th>\n",
       "      <th>media_cost_14_days</th>\n",
       "      <th>campaign_name</th>\n",
       "      <th>advertiser_id</th>\n",
       "      <th>advertiser_name</th>\n",
       "    </tr>\n",
       "  </thead>\n",
       "  <tbody>\n",
       "    <tr>\n",
       "      <th>0</th>\n",
       "      <td>15443908</td>\n",
       "      <td>1268.939159</td>\n",
       "      <td>AMEX - Prospecting - Reach - PD - Seller Whitelist (DPI) - APB Viewability Tree</td>\n",
       "      <td>282921</td>\n",
       "      <td>AMEX c/o Mindshare UK</td>\n",
       "    </tr>\n",
       "    <tr>\n",
       "      <th>1</th>\n",
       "      <td>16115184</td>\n",
       "      <td>1079.406727</td>\n",
       "      <td>Human Appeal - Qurbani - Prospecting - Reach - AS - Whitelist - APB Viewability</td>\n",
       "      <td>510181</td>\n",
       "      <td>Human Appeal c/o Republic of Media</td>\n",
       "    </tr>\n",
       "    <tr>\n",
       "      <th>2</th>\n",
       "      <td>14235625</td>\n",
       "      <td>864.389624</td>\n",
       "      <td>Vitality Health - Prospecting - New 2016 Site - Reach - High Viewability - APB {15409}</td>\n",
       "      <td>271854</td>\n",
       "      <td>Vitality c/o mSIX</td>\n",
       "    </tr>\n",
       "    <tr>\n",
       "      <th>3</th>\n",
       "      <td>12030877</td>\n",
       "      <td>756.033133</td>\n",
       "      <td>Bayer - Brand - Reach - Pets - High Viewability - Custom APB Model</td>\n",
       "      <td>790000</td>\n",
       "      <td>Bayer c/o Mediacom</td>\n",
       "    </tr>\n",
       "    <tr>\n",
       "      <th>4</th>\n",
       "      <td>15884232</td>\n",
       "      <td>371.246326</td>\n",
       "      <td>Bayer - Brand - Reach - Viewability - Top Domain Group - Manual CPM</td>\n",
       "      <td>790000</td>\n",
       "      <td>Bayer c/o Mediacom</td>\n",
       "    </tr>\n",
       "  </tbody>\n",
       "</table>\n",
       "</div>"
      ],
      "text/plain": [
       "   campaign_id  media_cost_14_days  \\\n",
       "0  15443908     1268.939159          \n",
       "1  16115184     1079.406727          \n",
       "2  14235625     864.389624           \n",
       "3  12030877     756.033133           \n",
       "4  15884232     371.246326           \n",
       "\n",
       "                                                                            campaign_name  \\\n",
       "0  AMEX - Prospecting - Reach - PD - Seller Whitelist (DPI) - APB Viewability Tree          \n",
       "1  Human Appeal - Qurbani - Prospecting - Reach - AS - Whitelist - APB Viewability          \n",
       "2  Vitality Health - Prospecting - New 2016 Site - Reach - High Viewability - APB {15409}   \n",
       "3  Bayer - Brand - Reach - Pets - High Viewability - Custom APB Model                       \n",
       "4  Bayer - Brand - Reach - Viewability - Top Domain Group - Manual CPM                      \n",
       "\n",
       "   advertiser_id                     advertiser_name  \n",
       "0  282921         AMEX c/o Mindshare UK               \n",
       "1  510181         Human Appeal c/o Republic of Media  \n",
       "2  271854         Vitality c/o mSIX                   \n",
       "3  790000         Bayer c/o Mediacom                  \n",
       "4  790000         Bayer c/o Mediacom                  "
      ]
     },
     "execution_count": 188,
     "metadata": {},
     "output_type": "execute_result"
    }
   ],
   "source": [
    "df_leg_campaigns_with_viewability_name_revenue.head(limit)"
   ]
  },
  {
   "cell_type": "code",
   "execution_count": 189,
   "metadata": {
    "collapsed": true
   },
   "outputs": [],
   "source": [
    "###Post click conversions"
   ]
  },
  {
   "cell_type": "code",
   "execution_count": 190,
   "metadata": {
    "collapsed": true
   },
   "outputs": [],
   "source": [
    "#Member level: % post click conversions / all conversions\n",
    "#    select sum(post_view_convs)/(sum(post_view_convs)+sum(post_click_convs)),sum(post_click_convs)/(sum(post_view_convs)+sum(post_click_convs))\n",
    "#from agg_dw_advertiser_publisher_analytics_adjusted\n",
    "#where member_id=1311\n",
    "#and ymdh >= now() - interval '30 days';"
   ]
  },
  {
   "cell_type": "markdown",
   "metadata": {
    "collapsed": true
   },
   "source": [
    "###Next Steps and Thoughts"
   ]
  },
  {
   "cell_type": "markdown",
   "metadata": {},
   "source": [
    "1. Proportion of total spend on each criteria (CPC opt, etc.) will be useful analysis for internal planning\n",
    "2. What is the cost (our time) / benefit of looking at features used in APB trees.\n",
    "3. We could add the ALI traction graph from snapshots here, so we can track adoption against these kpis - i.e. we should see the number of the campaigns we identify go down over time\n",
    "4. Campaign bidding fixed CPM could be a good fit for ALI\n",
    "5. Adding Post click CPA\n",
    "6. Adding line items that have a single active campaign\n",
    "7. Make it more descriptive for AMs to be able to use it (clarify why we included each section, etc.)\n",
    "8. Adding Standard Line Items that are using viewability thresholds\n",
    "\n",
    "Change Log\n",
    "- Added support for advertisers that don't use IOs at all\n",
    "- Rearranged the different cells - first all Seamless & no IO, then all legacy IO"
   ]
  },
  {
   "cell_type": "code",
   "execution_count": null,
   "metadata": {
    "collapsed": false
   },
   "outputs": [],
   "source": []
  },
  {
   "cell_type": "code",
   "execution_count": null,
   "metadata": {
    "collapsed": true
   },
   "outputs": [],
   "source": []
  }
 ],
 "metadata": {
  "kernelspec": {
   "display_name": "Python 2",
   "language": "python",
   "name": "python2"
  },
  "language_info": {
   "codemirror_mode": {
    "name": "ipython",
    "version": 2
   },
   "file_extension": ".py",
   "mimetype": "text/x-python",
   "name": "python",
   "nbconvert_exporter": "python",
   "pygments_lexer": "ipython2",
   "version": "2.7.3"
  }
 },
 "nbformat": 4,
 "nbformat_minor": 0
}
